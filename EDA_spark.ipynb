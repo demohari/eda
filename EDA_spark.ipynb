{
 "cells": [
  {
   "cell_type": "code",
   "execution_count": 7,
   "metadata": {},
   "outputs": [],
   "source": [
    "from pyspark.sql import SparkSession\n",
    "from pyspark.sql.types import StructType,StructField, StringType, IntegerType,FloatType"
   ]
  },
  {
   "cell_type": "code",
   "execution_count": 8,
   "metadata": {},
   "outputs": [],
   "source": [
    "spark = SparkSession.builder.appName(\"eda\").getOrCreate()"
   ]
  },
  {
   "cell_type": "code",
   "execution_count": 9,
   "metadata": {},
   "outputs": [
    {
     "data": {
      "text/html": [
       "\n",
       "            <div>\n",
       "                <p><b>SparkSession - in-memory</b></p>\n",
       "                \n",
       "        <div>\n",
       "            <p><b>SparkContext</b></p>\n",
       "\n",
       "            <p><a href=\"http://1b1b6d842690:4040\">Spark UI</a></p>\n",
       "\n",
       "            <dl>\n",
       "              <dt>Version</dt>\n",
       "                <dd><code>v3.2.1</code></dd>\n",
       "              <dt>Master</dt>\n",
       "                <dd><code>local[*]</code></dd>\n",
       "              <dt>AppName</dt>\n",
       "                <dd><code>eda</code></dd>\n",
       "            </dl>\n",
       "        </div>\n",
       "        \n",
       "            </div>\n",
       "        "
      ],
      "text/plain": [
       "<pyspark.sql.session.SparkSession at 0x7f81540a0340>"
      ]
     },
     "execution_count": 9,
     "metadata": {},
     "output_type": "execute_result"
    }
   ],
   "source": [
    "spark"
   ]
  },
  {
   "cell_type": "code",
   "execution_count": 12,
   "metadata": {},
   "outputs": [],
   "source": [
    "schema = StructType([\n",
    "    StructField('App',\n",
    "                StringType(), True),\n",
    "    StructField('Category',\n",
    "                StringType(), True),\n",
    "    StructField('Rating',\n",
    "                FloatType(), True),\n",
    "    StructField('Reviews',\n",
    "                IntegerType(), True),\n",
    "    StructField('Size',\n",
    "                FloatType(), True),\n",
    "    StructField('Installs',\n",
    "                IntegerType(), True),\n",
    "    StructField('Type',\n",
    "                StringType(), True),\n",
    "    StructField('Price',\n",
    "                FloatType(), True),\n",
    "    StructField('Content Rating',\n",
    "                StringType(), True),\n",
    "    StructField('Genres',\n",
    "                StringType(), True),\n",
    "    StructField('Last Updated',\n",
    "                StringType(), True),\n",
    "    StructField('Current Ver',\n",
    "                StringType(), True),\n",
    "    StructField('Android Ver',\n",
    "                StringType(), True),\n",
    "    StructField('day',\n",
    "                IntegerType(), True),\n",
    "    StructField('month',\n",
    "                IntegerType(), True),\n",
    "    StructField('year',\n",
    "                IntegerType(), True)\n",
    "])"
   ]
  },
  {
   "cell_type": "code",
   "execution_count": 13,
   "metadata": {},
   "outputs": [
    {
     "name": "stdout",
     "output_type": "stream",
     "text": [
      "root\n",
      " |-- App: string (nullable = true)\n",
      " |-- Category: string (nullable = true)\n",
      " |-- Rating: float (nullable = true)\n",
      " |-- Reviews: integer (nullable = true)\n",
      " |-- Size: float (nullable = true)\n",
      " |-- Installs: integer (nullable = true)\n",
      " |-- Type: string (nullable = true)\n",
      " |-- Price: float (nullable = true)\n",
      " |-- Content Rating: string (nullable = true)\n",
      " |-- Genres: string (nullable = true)\n",
      " |-- Last Updated: string (nullable = true)\n",
      " |-- Current Ver: string (nullable = true)\n",
      " |-- Android Ver: string (nullable = true)\n",
      " |-- day: integer (nullable = true)\n",
      " |-- month: integer (nullable = true)\n",
      " |-- year: integer (nullable = true)\n",
      "\n"
     ]
    }
   ],
   "source": [
    "df = spark.read.format(\n",
    "    \"csv\").schema(schema).option(\n",
    "    \"header\", True).load(\"/config/workspace/clead_google_playstore_data copy.csv\")\n",
    "df.printSchema()"
   ]
  },
  {
   "cell_type": "code",
   "execution_count": 14,
   "metadata": {},
   "outputs": [],
   "source": [
    "import numpy as np\n",
    "import matplotlib.pyplot as pyplot\n",
    "import seaborn as sns\n",
    "import warnings\n",
    "warnings.filterwarnings('ignore')\n",
    "%matplotlib inline"
   ]
  },
  {
   "cell_type": "code",
   "execution_count": 18,
   "metadata": {},
   "outputs": [
    {
     "name": "stdout",
     "output_type": "stream",
     "text": [
      "+--------------------+--------------+------+-------+-------+--------+----+-----+--------------+--------------------+------------+------------------+-----------+---+-----+----+\n",
      "|                 App|      Category|Rating|Reviews|   Size|Installs|Type|Price|Content Rating|              Genres|Last Updated|       Current Ver|Android Ver|day|month|year|\n",
      "+--------------------+--------------+------+-------+-------+--------+----+-----+--------------+--------------------+------------+------------------+-----------+---+-----+----+\n",
      "|Photo Editor & Ca...|ART_AND_DESIGN|   4.1|    159|19000.0|   10000|Free|  0.0|      Everyone|        Art & Design|  2018-01-07|             1.0.0|     4.0.3 |  7|    1|2018|\n",
      "| Coloring book moana|ART_AND_DESIGN|   3.9|    967|14000.0|  500000|Free|  0.0|      Everyone|Art & Design;Pret...|  2018-01-15|             2.0.0|     4.0.3 | 15|    1|2018|\n",
      "|U Launcher Lite –...|ART_AND_DESIGN|   4.7|  87510| 8700.0| 5000000|Free|  0.0|      Everyone|        Art & Design|  2018-08-01|             1.2.4|     4.0.3 |  1|    8|2018|\n",
      "|Sketch - Draw & P...|ART_AND_DESIGN|   4.5| 215644|25000.0|50000000|Free|  0.0|          Teen|        Art & Design|  2018-06-08|Varies with device|       4.2 |  8|    6|2018|\n",
      "|Pixel Draw - Numb...|ART_AND_DESIGN|   4.3|    967| 2800.0|  100000|Free|  0.0|      Everyone|Art & Design;Crea...|  2018-06-20|               1.1|       4.4 | 20|    6|2018|\n",
      "+--------------------+--------------+------+-------+-------+--------+----+-----+--------------+--------------------+------------+------------------+-----------+---+-----+----+\n",
      "only showing top 5 rows\n",
      "\n"
     ]
    }
   ],
   "source": [
    "df.show(5)"
   ]
  },
  {
   "cell_type": "code",
   "execution_count": 21,
   "metadata": {},
   "outputs": [
    {
     "data": {
      "text/html": [
       "<div>\n",
       "<style scoped>\n",
       "    .dataframe tbody tr th:only-of-type {\n",
       "        vertical-align: middle;\n",
       "    }\n",
       "\n",
       "    .dataframe tbody tr th {\n",
       "        vertical-align: top;\n",
       "    }\n",
       "\n",
       "    .dataframe thead th {\n",
       "        text-align: right;\n",
       "    }\n",
       "</style>\n",
       "<table border=\"1\" class=\"dataframe\">\n",
       "  <thead>\n",
       "    <tr style=\"text-align: right;\">\n",
       "      <th></th>\n",
       "      <th>App</th>\n",
       "      <th>Category</th>\n",
       "      <th>Rating</th>\n",
       "      <th>Reviews</th>\n",
       "      <th>Size</th>\n",
       "      <th>Installs</th>\n",
       "      <th>Type</th>\n",
       "      <th>Price</th>\n",
       "      <th>Content Rating</th>\n",
       "      <th>Genres</th>\n",
       "      <th>Last Updated</th>\n",
       "      <th>Current Ver</th>\n",
       "      <th>Android Ver</th>\n",
       "      <th>day</th>\n",
       "      <th>month</th>\n",
       "      <th>year</th>\n",
       "    </tr>\n",
       "  </thead>\n",
       "  <tbody>\n",
       "    <tr>\n",
       "      <th>0</th>\n",
       "      <td>Photo Editor &amp; Candy Camera &amp; Grid &amp; ScrapBook</td>\n",
       "      <td>ART_AND_DESIGN</td>\n",
       "      <td>4.1</td>\n",
       "      <td>159.0</td>\n",
       "      <td>19000.0</td>\n",
       "      <td>10000.0</td>\n",
       "      <td>Free</td>\n",
       "      <td>0.0</td>\n",
       "      <td>Everyone</td>\n",
       "      <td>Art &amp; Design</td>\n",
       "      <td>2018-01-07</td>\n",
       "      <td>1.0.0</td>\n",
       "      <td>4.0.3</td>\n",
       "      <td>7.0</td>\n",
       "      <td>1.0</td>\n",
       "      <td>2018.0</td>\n",
       "    </tr>\n",
       "    <tr>\n",
       "      <th>1</th>\n",
       "      <td>Coloring book moana</td>\n",
       "      <td>ART_AND_DESIGN</td>\n",
       "      <td>3.9</td>\n",
       "      <td>967.0</td>\n",
       "      <td>14000.0</td>\n",
       "      <td>500000.0</td>\n",
       "      <td>Free</td>\n",
       "      <td>0.0</td>\n",
       "      <td>Everyone</td>\n",
       "      <td>Art &amp; Design;Pretend Play</td>\n",
       "      <td>2018-01-15</td>\n",
       "      <td>2.0.0</td>\n",
       "      <td>4.0.3</td>\n",
       "      <td>15.0</td>\n",
       "      <td>1.0</td>\n",
       "      <td>2018.0</td>\n",
       "    </tr>\n",
       "    <tr>\n",
       "      <th>2</th>\n",
       "      <td>U Launcher Lite – FREE Live Cool Themes, Hide ...</td>\n",
       "      <td>ART_AND_DESIGN</td>\n",
       "      <td>4.7</td>\n",
       "      <td>87510.0</td>\n",
       "      <td>8700.0</td>\n",
       "      <td>5000000.0</td>\n",
       "      <td>Free</td>\n",
       "      <td>0.0</td>\n",
       "      <td>Everyone</td>\n",
       "      <td>Art &amp; Design</td>\n",
       "      <td>2018-08-01</td>\n",
       "      <td>1.2.4</td>\n",
       "      <td>4.0.3</td>\n",
       "      <td>1.0</td>\n",
       "      <td>8.0</td>\n",
       "      <td>2018.0</td>\n",
       "    </tr>\n",
       "    <tr>\n",
       "      <th>3</th>\n",
       "      <td>Sketch - Draw &amp; Paint</td>\n",
       "      <td>ART_AND_DESIGN</td>\n",
       "      <td>4.5</td>\n",
       "      <td>215644.0</td>\n",
       "      <td>25000.0</td>\n",
       "      <td>50000000.0</td>\n",
       "      <td>Free</td>\n",
       "      <td>0.0</td>\n",
       "      <td>Teen</td>\n",
       "      <td>Art &amp; Design</td>\n",
       "      <td>2018-06-08</td>\n",
       "      <td>Varies with device</td>\n",
       "      <td>4.2</td>\n",
       "      <td>8.0</td>\n",
       "      <td>6.0</td>\n",
       "      <td>2018.0</td>\n",
       "    </tr>\n",
       "    <tr>\n",
       "      <th>4</th>\n",
       "      <td>Pixel Draw - Number Art Coloring Book</td>\n",
       "      <td>ART_AND_DESIGN</td>\n",
       "      <td>4.3</td>\n",
       "      <td>967.0</td>\n",
       "      <td>2800.0</td>\n",
       "      <td>100000.0</td>\n",
       "      <td>Free</td>\n",
       "      <td>0.0</td>\n",
       "      <td>Everyone</td>\n",
       "      <td>Art &amp; Design;Creativity</td>\n",
       "      <td>2018-06-20</td>\n",
       "      <td>1.1</td>\n",
       "      <td>4.4</td>\n",
       "      <td>20.0</td>\n",
       "      <td>6.0</td>\n",
       "      <td>2018.0</td>\n",
       "    </tr>\n",
       "  </tbody>\n",
       "</table>\n",
       "</div>"
      ],
      "text/plain": [
       "                                                 App        Category  Rating  \\\n",
       "0     Photo Editor & Candy Camera & Grid & ScrapBook  ART_AND_DESIGN     4.1   \n",
       "1                                Coloring book moana  ART_AND_DESIGN     3.9   \n",
       "2  U Launcher Lite – FREE Live Cool Themes, Hide ...  ART_AND_DESIGN     4.7   \n",
       "3                              Sketch - Draw & Paint  ART_AND_DESIGN     4.5   \n",
       "4              Pixel Draw - Number Art Coloring Book  ART_AND_DESIGN     4.3   \n",
       "\n",
       "    Reviews     Size    Installs  Type  Price Content Rating  \\\n",
       "0     159.0  19000.0     10000.0  Free    0.0       Everyone   \n",
       "1     967.0  14000.0    500000.0  Free    0.0       Everyone   \n",
       "2   87510.0   8700.0   5000000.0  Free    0.0       Everyone   \n",
       "3  215644.0  25000.0  50000000.0  Free    0.0           Teen   \n",
       "4     967.0   2800.0    100000.0  Free    0.0       Everyone   \n",
       "\n",
       "                      Genres Last Updated         Current Ver Android Ver  \\\n",
       "0               Art & Design   2018-01-07               1.0.0      4.0.3    \n",
       "1  Art & Design;Pretend Play   2018-01-15               2.0.0      4.0.3    \n",
       "2               Art & Design   2018-08-01               1.2.4      4.0.3    \n",
       "3               Art & Design   2018-06-08  Varies with device        4.2    \n",
       "4    Art & Design;Creativity   2018-06-20                 1.1        4.4    \n",
       "\n",
       "    day  month    year  \n",
       "0   7.0    1.0  2018.0  \n",
       "1  15.0    1.0  2018.0  \n",
       "2   1.0    8.0  2018.0  \n",
       "3   8.0    6.0  2018.0  \n",
       "4  20.0    6.0  2018.0  "
      ]
     },
     "execution_count": 21,
     "metadata": {},
     "output_type": "execute_result"
    }
   ],
   "source": [
    "import pandas as pd\n",
    "df.toPandas().head()"
   ]
  },
  {
   "cell_type": "code",
   "execution_count": 22,
   "metadata": {},
   "outputs": [
    {
     "data": {
      "text/html": [
       "<div>\n",
       "<style scoped>\n",
       "    .dataframe tbody tr th:only-of-type {\n",
       "        vertical-align: middle;\n",
       "    }\n",
       "\n",
       "    .dataframe tbody tr th {\n",
       "        vertical-align: top;\n",
       "    }\n",
       "\n",
       "    .dataframe thead th {\n",
       "        text-align: right;\n",
       "    }\n",
       "</style>\n",
       "<table border=\"1\" class=\"dataframe\">\n",
       "  <thead>\n",
       "    <tr style=\"text-align: right;\">\n",
       "      <th></th>\n",
       "      <th>App</th>\n",
       "      <th>Category</th>\n",
       "      <th>Rating</th>\n",
       "      <th>Reviews</th>\n",
       "      <th>Size</th>\n",
       "      <th>Installs</th>\n",
       "      <th>Type</th>\n",
       "      <th>Price</th>\n",
       "      <th>Content Rating</th>\n",
       "      <th>Genres</th>\n",
       "      <th>Last Updated</th>\n",
       "      <th>Current Ver</th>\n",
       "      <th>Android Ver</th>\n",
       "      <th>day</th>\n",
       "      <th>month</th>\n",
       "      <th>year</th>\n",
       "    </tr>\n",
       "  </thead>\n",
       "  <tbody>\n",
       "    <tr>\n",
       "      <th>3340</th>\n",
       "      <td>NETGEAR WiFi Analytics</td>\n",
       "      <td>TOOLS</td>\n",
       "      <td>4.1</td>\n",
       "      <td>9496.0</td>\n",
       "      <td>696.0</td>\n",
       "      <td>1000000.0</td>\n",
       "      <td>Free</td>\n",
       "      <td>0.0</td>\n",
       "      <td>Everyone</td>\n",
       "      <td>Tools</td>\n",
       "      <td>2014-04-25</td>\n",
       "      <td>1.0.19</td>\n",
       "      <td>2.2</td>\n",
       "      <td>25.0</td>\n",
       "      <td>4.0</td>\n",
       "      <td>2014.0</td>\n",
       "    </tr>\n",
       "  </tbody>\n",
       "</table>\n",
       "</div>"
      ],
      "text/plain": [
       "                         App Category  Rating  Reviews   Size   Installs  \\\n",
       "3340  NETGEAR WiFi Analytics    TOOLS     4.1   9496.0  696.0  1000000.0   \n",
       "\n",
       "      Type  Price Content Rating Genres Last Updated Current Ver Android Ver  \\\n",
       "3340  Free    0.0       Everyone  Tools   2014-04-25      1.0.19        2.2    \n",
       "\n",
       "       day  month    year  \n",
       "3340  25.0    4.0  2014.0  "
      ]
     },
     "execution_count": 22,
     "metadata": {},
     "output_type": "execute_result"
    }
   ],
   "source": [
    "df.toPandas().sample()"
   ]
  },
  {
   "cell_type": "code",
   "execution_count": 24,
   "metadata": {},
   "outputs": [
    {
     "ename": "AttributeError",
     "evalue": "'DataFrame' object has no attribute 'shape'",
     "output_type": "error",
     "traceback": [
      "\u001b[0;31m---------------------------------------------------------------------------\u001b[0m",
      "\u001b[0;31mAttributeError\u001b[0m                            Traceback (most recent call last)",
      "Cell \u001b[0;32mIn[24], line 1\u001b[0m\n\u001b[0;32m----> 1\u001b[0m \u001b[43mdf\u001b[49m\u001b[38;5;241;43m.\u001b[39;49m\u001b[43mshape\u001b[49m()\n",
      "File \u001b[0;32m/usr/local/lib/python3.8/dist-packages/pyspark/sql/dataframe.py:1659\u001b[0m, in \u001b[0;36mDataFrame.__getattr__\u001b[0;34m(self, name)\u001b[0m\n\u001b[1;32m   1649\u001b[0m \u001b[39m\u001b[39m\u001b[39m\"\"\"Returns the :class:`Column` denoted by ``name``.\u001b[39;00m\n\u001b[1;32m   1650\u001b[0m \n\u001b[1;32m   1651\u001b[0m \u001b[39m.. versionadded:: 1.3.0\u001b[39;00m\n\u001b[0;32m   (...)\u001b[0m\n\u001b[1;32m   1656\u001b[0m \u001b[39m[Row(age=2), Row(age=5)]\u001b[39;00m\n\u001b[1;32m   1657\u001b[0m \u001b[39m\"\"\"\u001b[39;00m\n\u001b[1;32m   1658\u001b[0m \u001b[39mif\u001b[39;00m name \u001b[39mnot\u001b[39;00m \u001b[39min\u001b[39;00m \u001b[39mself\u001b[39m\u001b[39m.\u001b[39mcolumns:\n\u001b[0;32m-> 1659\u001b[0m     \u001b[39mraise\u001b[39;00m \u001b[39mAttributeError\u001b[39;00m(\n\u001b[1;32m   1660\u001b[0m         \u001b[39m\"\u001b[39m\u001b[39m'\u001b[39m\u001b[39m%s\u001b[39;00m\u001b[39m'\u001b[39m\u001b[39m object has no attribute \u001b[39m\u001b[39m'\u001b[39m\u001b[39m%s\u001b[39;00m\u001b[39m'\u001b[39m\u001b[39m\"\u001b[39m \u001b[39m%\u001b[39m (\u001b[39mself\u001b[39m\u001b[39m.\u001b[39m\u001b[39m__class__\u001b[39m\u001b[39m.\u001b[39m\u001b[39m__name__\u001b[39m, name))\n\u001b[1;32m   1661\u001b[0m jc \u001b[39m=\u001b[39m \u001b[39mself\u001b[39m\u001b[39m.\u001b[39m_jdf\u001b[39m.\u001b[39mapply(name)\n\u001b[1;32m   1662\u001b[0m \u001b[39mreturn\u001b[39;00m Column(jc)\n",
      "\u001b[0;31mAttributeError\u001b[0m: 'DataFrame' object has no attribute 'shape'"
     ]
    }
   ],
   "source": [
    "df.shape()"
   ]
  },
  {
   "cell_type": "code",
   "execution_count": 25,
   "metadata": {},
   "outputs": [
    {
     "data": {
      "text/plain": [
       "10840"
      ]
     },
     "execution_count": 25,
     "metadata": {},
     "output_type": "execute_result"
    }
   ],
   "source": [
    "df.count()"
   ]
  },
  {
   "cell_type": "code",
   "execution_count": 26,
   "metadata": {},
   "outputs": [
    {
     "name": "stdout",
     "output_type": "stream",
     "text": [
      "(10840, 16)\n"
     ]
    }
   ],
   "source": [
    "print((df.count(), len(df.columns)))"
   ]
  },
  {
   "cell_type": "code",
   "execution_count": 27,
   "metadata": {},
   "outputs": [
    {
     "name": "stdout",
     "output_type": "stream",
     "text": [
      "+-------+------------------+-----------------+------------------+-------------------+------------------+------------------+------------------+------------------+\n",
      "|summary|            Rating|          Reviews|              Size|           Installs|             Price|               day|             month|              year|\n",
      "+-------+------------------+-----------------+------------------+-------------------+------------------+------------------+------------------+------------------+\n",
      "|  count|              9364|            10838|              9144|              10838|             10839|             10838|             10838|             10838|\n",
      "|   mean| 4.191734297720605|444225.1924709356|21508.339238845143|1.546663900046134E7|1.4887600148534719|15.609983391769699| 6.422402657316848|2017.3996124746263|\n",
      "| stddev|0.5152693805741332|2928025.838407947| 22596.59699806101| 8.50370342845836E7|50.595990194027294| 9.561379976894772|2.5784765206882225|1.1009855900018612|\n",
      "|    min|               1.0|                0|              10.0|                  0|               0.0|                 1|                 1|              2010|\n",
      "|    max|               5.0|         78158306|          100000.0|         1000000000|            5000.0|                31|                12|              2018|\n",
      "+-------+------------------+-----------------+------------------+-------------------+------------------+------------------+------------------+------------------+\n",
      "\n"
     ]
    }
   ],
   "source": [
    "df.select([col[0] for col in df.dtypes if col[1] != 'string']).describe().show()"
   ]
  },
  {
   "cell_type": "code",
   "execution_count": 29,
   "metadata": {},
   "outputs": [
    {
     "data": {
      "text/html": [
       "<div>\n",
       "<style scoped>\n",
       "    .dataframe tbody tr th:only-of-type {\n",
       "        vertical-align: middle;\n",
       "    }\n",
       "\n",
       "    .dataframe tbody tr th {\n",
       "        vertical-align: top;\n",
       "    }\n",
       "\n",
       "    .dataframe thead th {\n",
       "        text-align: right;\n",
       "    }\n",
       "</style>\n",
       "<table border=\"1\" class=\"dataframe\">\n",
       "  <thead>\n",
       "    <tr style=\"text-align: right;\">\n",
       "      <th></th>\n",
       "      <th>Rating</th>\n",
       "      <th>Reviews</th>\n",
       "      <th>Size</th>\n",
       "      <th>Installs</th>\n",
       "      <th>Price</th>\n",
       "      <th>day</th>\n",
       "      <th>month</th>\n",
       "      <th>year</th>\n",
       "    </tr>\n",
       "  </thead>\n",
       "  <tbody>\n",
       "    <tr>\n",
       "      <th>count</th>\n",
       "      <td>9364.000000</td>\n",
       "      <td>1.083800e+04</td>\n",
       "      <td>9144.000000</td>\n",
       "      <td>1.083800e+04</td>\n",
       "      <td>10839.000000</td>\n",
       "      <td>10838.000000</td>\n",
       "      <td>10838.000000</td>\n",
       "      <td>10838.000000</td>\n",
       "    </tr>\n",
       "    <tr>\n",
       "      <th>mean</th>\n",
       "      <td>4.191734</td>\n",
       "      <td>4.442252e+05</td>\n",
       "      <td>21508.339844</td>\n",
       "      <td>1.546664e+07</td>\n",
       "      <td>1.488760</td>\n",
       "      <td>15.609983</td>\n",
       "      <td>6.422403</td>\n",
       "      <td>2017.399612</td>\n",
       "    </tr>\n",
       "    <tr>\n",
       "      <th>std</th>\n",
       "      <td>0.515269</td>\n",
       "      <td>2.928026e+06</td>\n",
       "      <td>22596.595703</td>\n",
       "      <td>8.503703e+07</td>\n",
       "      <td>50.595989</td>\n",
       "      <td>9.561380</td>\n",
       "      <td>2.578477</td>\n",
       "      <td>1.100986</td>\n",
       "    </tr>\n",
       "    <tr>\n",
       "      <th>min</th>\n",
       "      <td>1.000000</td>\n",
       "      <td>0.000000e+00</td>\n",
       "      <td>10.000000</td>\n",
       "      <td>0.000000e+00</td>\n",
       "      <td>0.000000</td>\n",
       "      <td>1.000000</td>\n",
       "      <td>1.000000</td>\n",
       "      <td>2010.000000</td>\n",
       "    </tr>\n",
       "    <tr>\n",
       "      <th>25%</th>\n",
       "      <td>4.000000</td>\n",
       "      <td>3.800000e+01</td>\n",
       "      <td>4900.000000</td>\n",
       "      <td>1.000000e+03</td>\n",
       "      <td>0.000000</td>\n",
       "      <td>6.000000</td>\n",
       "      <td>5.000000</td>\n",
       "      <td>2017.000000</td>\n",
       "    </tr>\n",
       "    <tr>\n",
       "      <th>50%</th>\n",
       "      <td>4.300000</td>\n",
       "      <td>2.093500e+03</td>\n",
       "      <td>13000.000000</td>\n",
       "      <td>1.000000e+05</td>\n",
       "      <td>0.000000</td>\n",
       "      <td>16.000000</td>\n",
       "      <td>7.000000</td>\n",
       "      <td>2018.000000</td>\n",
       "    </tr>\n",
       "    <tr>\n",
       "      <th>75%</th>\n",
       "      <td>4.500000</td>\n",
       "      <td>5.470600e+04</td>\n",
       "      <td>30000.000000</td>\n",
       "      <td>5.000000e+06</td>\n",
       "      <td>0.000000</td>\n",
       "      <td>24.000000</td>\n",
       "      <td>8.000000</td>\n",
       "      <td>2018.000000</td>\n",
       "    </tr>\n",
       "    <tr>\n",
       "      <th>max</th>\n",
       "      <td>5.000000</td>\n",
       "      <td>7.815831e+07</td>\n",
       "      <td>100000.000000</td>\n",
       "      <td>1.000000e+09</td>\n",
       "      <td>5000.000000</td>\n",
       "      <td>31.000000</td>\n",
       "      <td>12.000000</td>\n",
       "      <td>2018.000000</td>\n",
       "    </tr>\n",
       "  </tbody>\n",
       "</table>\n",
       "</div>"
      ],
      "text/plain": [
       "            Rating       Reviews           Size      Installs         Price  \\\n",
       "count  9364.000000  1.083800e+04    9144.000000  1.083800e+04  10839.000000   \n",
       "mean      4.191734  4.442252e+05   21508.339844  1.546664e+07      1.488760   \n",
       "std       0.515269  2.928026e+06   22596.595703  8.503703e+07     50.595989   \n",
       "min       1.000000  0.000000e+00      10.000000  0.000000e+00      0.000000   \n",
       "25%       4.000000  3.800000e+01    4900.000000  1.000000e+03      0.000000   \n",
       "50%       4.300000  2.093500e+03   13000.000000  1.000000e+05      0.000000   \n",
       "75%       4.500000  5.470600e+04   30000.000000  5.000000e+06      0.000000   \n",
       "max       5.000000  7.815831e+07  100000.000000  1.000000e+09   5000.000000   \n",
       "\n",
       "                day         month          year  \n",
       "count  10838.000000  10838.000000  10838.000000  \n",
       "mean      15.609983      6.422403   2017.399612  \n",
       "std        9.561380      2.578477      1.100986  \n",
       "min        1.000000      1.000000   2010.000000  \n",
       "25%        6.000000      5.000000   2017.000000  \n",
       "50%       16.000000      7.000000   2018.000000  \n",
       "75%       24.000000      8.000000   2018.000000  \n",
       "max       31.000000     12.000000   2018.000000  "
      ]
     },
     "execution_count": 29,
     "metadata": {},
     "output_type": "execute_result"
    }
   ],
   "source": [
    "df.toPandas().describe()"
   ]
  },
  {
   "cell_type": "code",
   "execution_count": 30,
   "metadata": {},
   "outputs": [
    {
     "name": "stdout",
     "output_type": "stream",
     "text": [
      "<class 'pandas.core.frame.DataFrame'>\n",
      "RangeIndex: 10840 entries, 0 to 10839\n",
      "Data columns (total 16 columns):\n",
      " #   Column          Non-Null Count  Dtype  \n",
      "---  ------          --------------  -----  \n",
      " 0   App             10840 non-null  object \n",
      " 1   Category        10840 non-null  object \n",
      " 2   Rating          9364 non-null   float32\n",
      " 3   Reviews         10838 non-null  float64\n",
      " 4   Size            9144 non-null   float32\n",
      " 5   Installs        10838 non-null  float64\n",
      " 6   Type            10839 non-null  object \n",
      " 7   Price           10839 non-null  float32\n",
      " 8   Content Rating  10840 non-null  object \n",
      " 9   Genres          10840 non-null  object \n",
      " 10  Last Updated    10840 non-null  object \n",
      " 11  Current Ver     10832 non-null  object \n",
      " 12  Android Ver     10838 non-null  object \n",
      " 13  day             10838 non-null  float64\n",
      " 14  month           10838 non-null  float64\n",
      " 15  year            10838 non-null  float64\n",
      "dtypes: float32(3), float64(5), object(8)\n",
      "memory usage: 1.2+ MB\n"
     ]
    }
   ],
   "source": [
    "df.toPandas().info()"
   ]
  },
  {
   "cell_type": "code",
   "execution_count": 31,
   "metadata": {},
   "outputs": [
    {
     "name": "stdout",
     "output_type": "stream",
     "text": [
      "root\n",
      " |-- App: string (nullable = true)\n",
      " |-- Category: string (nullable = true)\n",
      " |-- Rating: float (nullable = true)\n",
      " |-- Reviews: integer (nullable = true)\n",
      " |-- Size: float (nullable = true)\n",
      " |-- Installs: integer (nullable = true)\n",
      " |-- Type: string (nullable = true)\n",
      " |-- Price: float (nullable = true)\n",
      " |-- Content Rating: string (nullable = true)\n",
      " |-- Genres: string (nullable = true)\n",
      " |-- Last Updated: string (nullable = true)\n",
      " |-- Current Ver: string (nullable = true)\n",
      " |-- Android Ver: string (nullable = true)\n",
      " |-- day: integer (nullable = true)\n",
      " |-- month: integer (nullable = true)\n",
      " |-- year: integer (nullable = true)\n",
      "\n"
     ]
    }
   ],
   "source": [
    "df.printSchema()"
   ]
  },
  {
   "cell_type": "code",
   "execution_count": 33,
   "metadata": {},
   "outputs": [
    {
     "name": "stdout",
     "output_type": "stream",
     "text": [
      "+-------+------------------+-----------------+------------------+-------------------+------------------+------------------+------------------+------------------+\n",
      "|summary|            Rating|          Reviews|              Size|           Installs|             Price|               day|             month|              year|\n",
      "+-------+------------------+-----------------+------------------+-------------------+------------------+------------------+------------------+------------------+\n",
      "|  count|              9364|            10838|              9144|              10838|             10839|             10838|             10838|             10838|\n",
      "|   mean| 4.191734297720605|444225.1924709356|21508.339238845143|1.546663900046134E7|1.4887600148534719|15.609983391769699| 6.422402657316848|2017.3996124746263|\n",
      "| stddev|0.5152693805741332|2928025.838407947| 22596.59699806101| 8.50370342845836E7|50.595990194027294| 9.561379976894772|2.5784765206882225|1.1009855900018612|\n",
      "|    min|               1.0|                0|              10.0|                  0|               0.0|                 1|                 1|              2010|\n",
      "|    max|               5.0|         78158306|          100000.0|         1000000000|            5000.0|                31|                12|              2018|\n",
      "+-------+------------------+-----------------+------------------+-------------------+------------------+------------------+------------------+------------------+\n",
      "\n"
     ]
    },
    {
     "data": {
      "text/html": [
       "<div>\n",
       "<style scoped>\n",
       "    .dataframe tbody tr th:only-of-type {\n",
       "        vertical-align: middle;\n",
       "    }\n",
       "\n",
       "    .dataframe tbody tr th {\n",
       "        vertical-align: top;\n",
       "    }\n",
       "\n",
       "    .dataframe thead th {\n",
       "        text-align: right;\n",
       "    }\n",
       "</style>\n",
       "<table border=\"1\" class=\"dataframe\">\n",
       "  <thead>\n",
       "    <tr style=\"text-align: right;\">\n",
       "      <th></th>\n",
       "    </tr>\n",
       "  </thead>\n",
       "  <tbody>\n",
       "  </tbody>\n",
       "</table>\n",
       "</div>"
      ],
      "text/plain": [
       "Empty DataFrame\n",
       "Columns: []\n",
       "Index: []"
      ]
     },
     "execution_count": 33,
     "metadata": {},
     "output_type": "execute_result"
    }
   ],
   "source": [
    "pd.DataFrame(df.select([col[0] for col in df.dtypes if col[1] != 'string']).describe().show())"
   ]
  },
  {
   "cell_type": "code",
   "execution_count": 34,
   "metadata": {},
   "outputs": [
    {
     "name": "stdout",
     "output_type": "stream",
     "text": [
      "+-------+------------------+-----------------+------------------+-------------------+------------------+------------------+------------------+------------------+\n",
      "|summary|            Rating|          Reviews|              Size|           Installs|             Price|               day|             month|              year|\n",
      "+-------+------------------+-----------------+------------------+-------------------+------------------+------------------+------------------+------------------+\n",
      "|  count|              9364|            10838|              9144|              10838|             10839|             10838|             10838|             10838|\n",
      "|   mean| 4.191734297720605|444225.1924709356|21508.339238845143|1.546663900046134E7|1.4887600148534719|15.609983391769699| 6.422402657316848|2017.3996124746263|\n",
      "| stddev|0.5152693805741332|2928025.838407947| 22596.59699806101| 8.50370342845836E7|50.595990194027294| 9.561379976894772|2.5784765206882225|1.1009855900018612|\n",
      "|    min|               1.0|                0|              10.0|                  0|               0.0|                 1|                 1|              2010|\n",
      "|    max|               5.0|         78158306|          100000.0|         1000000000|            5000.0|                31|                12|              2018|\n",
      "+-------+------------------+-----------------+------------------+-------------------+------------------+------------------+------------------+------------------+\n",
      "\n"
     ]
    }
   ],
   "source": [
    "df.select([col[0] for col in df.dtypes if col[1] != 'string']).describe().show()"
   ]
  },
  {
   "cell_type": "code",
   "execution_count": 37,
   "metadata": {},
   "outputs": [
    {
     "name": "stdout",
     "output_type": "stream",
     "text": [
      "+-------+--------------------+-------------+------------------+-----------------+------------------+-------------------+-----------------+------------------+----------------+------+------------+--------------------+-----------+------------------+------------------+------------------+\n",
      "|summary|                 App|     Category|            Rating|          Reviews|              Size|           Installs|             Type|             Price|  Content Rating|Genres|Last Updated|         Current Ver|Android Ver|               day|             month|              year|\n",
      "+-------+--------------------+-------------+------------------+-----------------+------------------+-------------------+-----------------+------------------+----------------+------+------------+--------------------+-----------+------------------+------------------+------------------+\n",
      "|  count|               10840|        10840|              9364|            10838|              9144|              10838|            10839|             10839|           10840| 10840|       10840|               10832|      10838|             10838|             10838|             10838|\n",
      "|   mean|                null|         null| 4.191734297720605|444225.1924709356|21508.339238845143|1.546663900046134E7|          52378.5|1.4887600148534719|       3000000.0|  null|         0.0|  419475.59249779576|        NaN|15.609983391769699| 6.422402657316848|2017.3996124746263|\n",
      "| stddev|                null|         null|0.5152693805741332|2928025.838407947| 22596.59699806101| 8.50370342845836E7|70526.12324876507|50.595990194027294|2828427.12474619|  null|         0.0|2.1010221253799446E7|        NaN| 9.561379976894772|2.5784765206882225|1.1009855900018612|\n",
      "|    min|\"\"\"i DT\"\" Fútbol....| traffic jams|               1.0|                0|              10.0|                  0|           102248|               0.0|         1000000|Action|         0.0|             0.0.0.2|       1.0 |                 1|                 1|              2010|\n",
      "|    max|🔥 Football Wallp...|      WEATHER|               5.0|         78158306|          100000.0|         1000000000|             Paid|            5000.0|         Unrated|  Word|  2018-08-08|       version 0.994|        NaN|                31|                12|              2018|\n",
      "+-------+--------------------+-------------+------------------+-----------------+------------------+-------------------+-----------------+------------------+----------------+------+------------+--------------------+-----------+------------------+------------------+------------------+\n",
      "\n"
     ]
    }
   ],
   "source": [
    "df.describe().show()"
   ]
  },
  {
   "cell_type": "code",
   "execution_count": 38,
   "metadata": {},
   "outputs": [
    {
     "name": "stderr",
     "output_type": "stream",
     "text": [
      "[Stage 37:>                                                         (0 + 1) / 1]\r"
     ]
    },
    {
     "name": "stdout",
     "output_type": "stream",
     "text": [
      "+-------+--------------------+-------------+------------------+-----------------+------------------+-------------------+-----------------+------------------+----------------+------+------------+--------------------+-----------+------------------+------------------+------------------+\n",
      "|summary|                 App|     Category|            Rating|          Reviews|              Size|           Installs|             Type|             Price|  Content Rating|Genres|Last Updated|         Current Ver|Android Ver|               day|             month|              year|\n",
      "+-------+--------------------+-------------+------------------+-----------------+------------------+-------------------+-----------------+------------------+----------------+------+------------+--------------------+-----------+------------------+------------------+------------------+\n",
      "|  count|               10840|        10840|              9364|            10838|              9144|              10838|            10839|             10839|           10840| 10840|       10840|               10832|      10838|             10838|             10838|             10838|\n",
      "|   mean|                null|         null| 4.191734297720605|444225.1924709356|21508.339238845143|1.546663900046134E7|          52378.5|1.4887600148534719|       3000000.0|  null|         0.0|  419475.59249779576|        NaN|15.609983391769699| 6.422402657316848|2017.3996124746263|\n",
      "| stddev|                null|         null|0.5152693805741332|2928025.838407947| 22596.59699806101| 8.50370342845836E7|70526.12324876507|50.595990194027294|2828427.12474619|  null|         0.0|2.1010221253799446E7|        NaN| 9.561379976894772|2.5784765206882225|1.1009855900018612|\n",
      "|    min|\"\"\"i DT\"\" Fútbol....| traffic jams|               1.0|                0|              10.0|                  0|           102248|               0.0|         1000000|Action|         0.0|             0.0.0.2|       1.0 |                 1|                 1|              2010|\n",
      "|    25%|                null|         null|               4.0|               38|            4900.0|               1000|           2509.0|               0.0|       1000000.0|  null|         0.0|                1.01|        4.0|                 6|                 5|              2017|\n",
      "|    50%|                null|         null|               4.3|             2093|           13000.0|             100000|           2509.0|               0.0|       1000000.0|  null|         0.0|                 1.4|        4.1|                16|                 7|              2018|\n",
      "|    75%|                null|         null|               4.5|            54520|           30000.0|            5000000|         102248.0|               0.0|       5000000.0|  null|         0.0|                2.92|        4.4|                24|                 8|              2018|\n",
      "|    max|🔥 Football Wallp...|      WEATHER|               5.0|         78158306|          100000.0|         1000000000|             Paid|            5000.0|         Unrated|  Word|  2018-08-08|       version 0.994|        NaN|                31|                12|              2018|\n",
      "+-------+--------------------+-------------+------------------+-----------------+------------------+-------------------+-----------------+------------------+----------------+------+------------+--------------------+-----------+------------------+------------------+------------------+\n",
      "\n"
     ]
    },
    {
     "name": "stderr",
     "output_type": "stream",
     "text": [
      "                                                                                \r"
     ]
    }
   ],
   "source": [
    "df.summary().show()"
   ]
  },
  {
   "cell_type": "code",
   "execution_count": 43,
   "metadata": {},
   "outputs": [
    {
     "ename": "AttributeError",
     "evalue": "'DataFrame' object has no attribute 'T'",
     "output_type": "error",
     "traceback": [
      "\u001b[0;31m---------------------------------------------------------------------------\u001b[0m",
      "\u001b[0;31mAttributeError\u001b[0m                            Traceback (most recent call last)",
      "Cell \u001b[0;32mIn[43], line 1\u001b[0m\n\u001b[0;32m----> 1\u001b[0m \u001b[43m(\u001b[49m\u001b[43mdf\u001b[49m\u001b[38;5;241;43m.\u001b[39;49m\u001b[43mselect\u001b[49m\u001b[43m(\u001b[49m\u001b[43m[\u001b[49m\u001b[43mcol\u001b[49m\u001b[43m[\u001b[49m\u001b[38;5;241;43m0\u001b[39;49m\u001b[43m]\u001b[49m\u001b[43m \u001b[49m\u001b[38;5;28;43;01mfor\u001b[39;49;00m\u001b[43m \u001b[49m\u001b[43mcol\u001b[49m\u001b[43m \u001b[49m\u001b[38;5;129;43;01min\u001b[39;49;00m\u001b[43m \u001b[49m\u001b[43mdf\u001b[49m\u001b[38;5;241;43m.\u001b[39;49m\u001b[43mdtypes\u001b[49m\u001b[43m \u001b[49m\u001b[38;5;28;43;01mif\u001b[39;49;00m\u001b[43m \u001b[49m\u001b[43mcol\u001b[49m\u001b[43m[\u001b[49m\u001b[38;5;241;43m1\u001b[39;49m\u001b[43m]\u001b[49m\u001b[43m \u001b[49m\u001b[38;5;241;43m!=\u001b[39;49m\u001b[43m \u001b[49m\u001b[38;5;124;43m'\u001b[39;49m\u001b[38;5;124;43mstring\u001b[39;49m\u001b[38;5;124;43m'\u001b[39;49m\u001b[43m]\u001b[49m\u001b[43m)\u001b[49m\u001b[38;5;241;43m.\u001b[39;49m\u001b[43mdescribe\u001b[49m\u001b[43m(\u001b[49m\u001b[43m)\u001b[49m\u001b[43m)\u001b[49m\u001b[38;5;241;43m.\u001b[39;49m\u001b[43mT\u001b[49m\u001b[38;5;241m.\u001b[39msort_index()\n",
      "File \u001b[0;32m/usr/local/lib/python3.8/dist-packages/pyspark/sql/dataframe.py:1659\u001b[0m, in \u001b[0;36mDataFrame.__getattr__\u001b[0;34m(self, name)\u001b[0m\n\u001b[1;32m   1649\u001b[0m \u001b[39m\u001b[39m\u001b[39m\"\"\"Returns the :class:`Column` denoted by ``name``.\u001b[39;00m\n\u001b[1;32m   1650\u001b[0m \n\u001b[1;32m   1651\u001b[0m \u001b[39m.. versionadded:: 1.3.0\u001b[39;00m\n\u001b[0;32m   (...)\u001b[0m\n\u001b[1;32m   1656\u001b[0m \u001b[39m[Row(age=2), Row(age=5)]\u001b[39;00m\n\u001b[1;32m   1657\u001b[0m \u001b[39m\"\"\"\u001b[39;00m\n\u001b[1;32m   1658\u001b[0m \u001b[39mif\u001b[39;00m name \u001b[39mnot\u001b[39;00m \u001b[39min\u001b[39;00m \u001b[39mself\u001b[39m\u001b[39m.\u001b[39mcolumns:\n\u001b[0;32m-> 1659\u001b[0m     \u001b[39mraise\u001b[39;00m \u001b[39mAttributeError\u001b[39;00m(\n\u001b[1;32m   1660\u001b[0m         \u001b[39m\"\u001b[39m\u001b[39m'\u001b[39m\u001b[39m%s\u001b[39;00m\u001b[39m'\u001b[39m\u001b[39m object has no attribute \u001b[39m\u001b[39m'\u001b[39m\u001b[39m%s\u001b[39;00m\u001b[39m'\u001b[39m\u001b[39m\"\u001b[39m \u001b[39m%\u001b[39m (\u001b[39mself\u001b[39m\u001b[39m.\u001b[39m\u001b[39m__class__\u001b[39m\u001b[39m.\u001b[39m\u001b[39m__name__\u001b[39m, name))\n\u001b[1;32m   1661\u001b[0m jc \u001b[39m=\u001b[39m \u001b[39mself\u001b[39m\u001b[39m.\u001b[39m_jdf\u001b[39m.\u001b[39mapply(name)\n\u001b[1;32m   1662\u001b[0m \u001b[39mreturn\u001b[39;00m Column(jc)\n",
      "\u001b[0;31mAttributeError\u001b[0m: 'DataFrame' object has no attribute 'T'"
     ]
    }
   ],
   "source": [
    "(df.select([col[0] for col in df.dtypes if col[1] != 'string']).describe()).T.sort_index()"
   ]
  },
  {
   "cell_type": "code",
   "execution_count": 45,
   "metadata": {},
   "outputs": [
    {
     "data": {
      "text/html": [
       "<div>\n",
       "<style scoped>\n",
       "    .dataframe tbody tr th:only-of-type {\n",
       "        vertical-align: middle;\n",
       "    }\n",
       "\n",
       "    .dataframe tbody tr th {\n",
       "        vertical-align: top;\n",
       "    }\n",
       "\n",
       "    .dataframe thead th {\n",
       "        text-align: right;\n",
       "    }\n",
       "</style>\n",
       "<table border=\"1\" class=\"dataframe\">\n",
       "  <thead>\n",
       "    <tr style=\"text-align: right;\">\n",
       "      <th></th>\n",
       "      <th>0</th>\n",
       "      <th>1</th>\n",
       "      <th>2</th>\n",
       "      <th>3</th>\n",
       "      <th>4</th>\n",
       "    </tr>\n",
       "  </thead>\n",
       "  <tbody>\n",
       "    <tr>\n",
       "      <th>summary</th>\n",
       "      <td>count</td>\n",
       "      <td>mean</td>\n",
       "      <td>stddev</td>\n",
       "      <td>min</td>\n",
       "      <td>max</td>\n",
       "    </tr>\n",
       "    <tr>\n",
       "      <th>App</th>\n",
       "      <td>10840</td>\n",
       "      <td>None</td>\n",
       "      <td>None</td>\n",
       "      <td>\"\"\"i DT\"\" Fútbol. Todos Somos Técnicos.\"</td>\n",
       "      <td>🔥 Football Wallpapers 4K | Full HD Backgrounds 😍</td>\n",
       "    </tr>\n",
       "    <tr>\n",
       "      <th>Category</th>\n",
       "      <td>10840</td>\n",
       "      <td>None</td>\n",
       "      <td>None</td>\n",
       "      <td>traffic jams</td>\n",
       "      <td>WEATHER</td>\n",
       "    </tr>\n",
       "    <tr>\n",
       "      <th>Rating</th>\n",
       "      <td>9364</td>\n",
       "      <td>4.191734297720605</td>\n",
       "      <td>0.5152693805741332</td>\n",
       "      <td>1.0</td>\n",
       "      <td>5.0</td>\n",
       "    </tr>\n",
       "    <tr>\n",
       "      <th>Reviews</th>\n",
       "      <td>10838</td>\n",
       "      <td>444225.1924709356</td>\n",
       "      <td>2928025.838407947</td>\n",
       "      <td>0</td>\n",
       "      <td>78158306</td>\n",
       "    </tr>\n",
       "    <tr>\n",
       "      <th>Size</th>\n",
       "      <td>9144</td>\n",
       "      <td>21508.339238845143</td>\n",
       "      <td>22596.59699806101</td>\n",
       "      <td>10.0</td>\n",
       "      <td>100000.0</td>\n",
       "    </tr>\n",
       "    <tr>\n",
       "      <th>Installs</th>\n",
       "      <td>10838</td>\n",
       "      <td>1.546663900046134E7</td>\n",
       "      <td>8.50370342845836E7</td>\n",
       "      <td>0</td>\n",
       "      <td>1000000000</td>\n",
       "    </tr>\n",
       "    <tr>\n",
       "      <th>Type</th>\n",
       "      <td>10839</td>\n",
       "      <td>52378.5</td>\n",
       "      <td>70526.12324876507</td>\n",
       "      <td>102248</td>\n",
       "      <td>Paid</td>\n",
       "    </tr>\n",
       "    <tr>\n",
       "      <th>Price</th>\n",
       "      <td>10839</td>\n",
       "      <td>1.4887600148534719</td>\n",
       "      <td>50.595990194027294</td>\n",
       "      <td>0.0</td>\n",
       "      <td>5000.0</td>\n",
       "    </tr>\n",
       "    <tr>\n",
       "      <th>Content Rating</th>\n",
       "      <td>10840</td>\n",
       "      <td>3000000.0</td>\n",
       "      <td>2828427.12474619</td>\n",
       "      <td>1000000</td>\n",
       "      <td>Unrated</td>\n",
       "    </tr>\n",
       "    <tr>\n",
       "      <th>Genres</th>\n",
       "      <td>10840</td>\n",
       "      <td>None</td>\n",
       "      <td>None</td>\n",
       "      <td>Action</td>\n",
       "      <td>Word</td>\n",
       "    </tr>\n",
       "    <tr>\n",
       "      <th>Last Updated</th>\n",
       "      <td>10840</td>\n",
       "      <td>0.0</td>\n",
       "      <td>0.0</td>\n",
       "      <td>0.0</td>\n",
       "      <td>2018-08-08</td>\n",
       "    </tr>\n",
       "    <tr>\n",
       "      <th>Current Ver</th>\n",
       "      <td>10832</td>\n",
       "      <td>419475.59249779576</td>\n",
       "      <td>2.1010221253799446E7</td>\n",
       "      <td>0.0.0.2</td>\n",
       "      <td>version 0.994</td>\n",
       "    </tr>\n",
       "    <tr>\n",
       "      <th>Android Ver</th>\n",
       "      <td>10838</td>\n",
       "      <td>NaN</td>\n",
       "      <td>NaN</td>\n",
       "      <td>1.0</td>\n",
       "      <td>NaN</td>\n",
       "    </tr>\n",
       "    <tr>\n",
       "      <th>day</th>\n",
       "      <td>10838</td>\n",
       "      <td>15.609983391769699</td>\n",
       "      <td>9.561379976894772</td>\n",
       "      <td>1</td>\n",
       "      <td>31</td>\n",
       "    </tr>\n",
       "    <tr>\n",
       "      <th>month</th>\n",
       "      <td>10838</td>\n",
       "      <td>6.422402657316848</td>\n",
       "      <td>2.5784765206882225</td>\n",
       "      <td>1</td>\n",
       "      <td>12</td>\n",
       "    </tr>\n",
       "    <tr>\n",
       "      <th>year</th>\n",
       "      <td>10838</td>\n",
       "      <td>2017.3996124746263</td>\n",
       "      <td>1.1009855900018612</td>\n",
       "      <td>2010</td>\n",
       "      <td>2018</td>\n",
       "    </tr>\n",
       "  </tbody>\n",
       "</table>\n",
       "</div>"
      ],
      "text/plain": [
       "                    0                    1                     2  \\\n",
       "summary         count                 mean                stddev   \n",
       "App             10840                 None                  None   \n",
       "Category        10840                 None                  None   \n",
       "Rating           9364    4.191734297720605    0.5152693805741332   \n",
       "Reviews         10838    444225.1924709356     2928025.838407947   \n",
       "Size             9144   21508.339238845143     22596.59699806101   \n",
       "Installs        10838  1.546663900046134E7    8.50370342845836E7   \n",
       "Type            10839              52378.5     70526.12324876507   \n",
       "Price           10839   1.4887600148534719    50.595990194027294   \n",
       "Content Rating  10840            3000000.0      2828427.12474619   \n",
       "Genres          10840                 None                  None   \n",
       "Last Updated    10840                  0.0                   0.0   \n",
       "Current Ver     10832   419475.59249779576  2.1010221253799446E7   \n",
       "Android Ver     10838                  NaN                   NaN   \n",
       "day             10838   15.609983391769699     9.561379976894772   \n",
       "month           10838    6.422402657316848    2.5784765206882225   \n",
       "year            10838   2017.3996124746263    1.1009855900018612   \n",
       "\n",
       "                                                       3  \\\n",
       "summary                                              min   \n",
       "App             \"\"\"i DT\"\" Fútbol. Todos Somos Técnicos.\"   \n",
       "Category                                    traffic jams   \n",
       "Rating                                               1.0   \n",
       "Reviews                                                0   \n",
       "Size                                                10.0   \n",
       "Installs                                               0   \n",
       "Type                                              102248   \n",
       "Price                                                0.0   \n",
       "Content Rating                                   1000000   \n",
       "Genres                                            Action   \n",
       "Last Updated                                         0.0   \n",
       "Current Ver                                      0.0.0.2   \n",
       "Android Ver                                         1.0    \n",
       "day                                                    1   \n",
       "month                                                  1   \n",
       "year                                                2010   \n",
       "\n",
       "                                                               4  \n",
       "summary                                                      max  \n",
       "App             🔥 Football Wallpapers 4K | Full HD Backgrounds 😍  \n",
       "Category                                                 WEATHER  \n",
       "Rating                                                       5.0  \n",
       "Reviews                                                 78158306  \n",
       "Size                                                    100000.0  \n",
       "Installs                                              1000000000  \n",
       "Type                                                        Paid  \n",
       "Price                                                     5000.0  \n",
       "Content Rating                                           Unrated  \n",
       "Genres                                                      Word  \n",
       "Last Updated                                          2018-08-08  \n",
       "Current Ver                                        version 0.994  \n",
       "Android Ver                                                  NaN  \n",
       "day                                                           31  \n",
       "month                                                         12  \n",
       "year                                                        2018  "
      ]
     },
     "execution_count": 45,
     "metadata": {},
     "output_type": "execute_result"
    }
   ],
   "source": [
    "df.describe().toPandas().T"
   ]
  },
  {
   "cell_type": "code",
   "execution_count": 46,
   "metadata": {},
   "outputs": [
    {
     "data": {
      "text/html": [
       "<div>\n",
       "<style scoped>\n",
       "    .dataframe tbody tr th:only-of-type {\n",
       "        vertical-align: middle;\n",
       "    }\n",
       "\n",
       "    .dataframe tbody tr th {\n",
       "        vertical-align: top;\n",
       "    }\n",
       "\n",
       "    .dataframe thead th {\n",
       "        text-align: right;\n",
       "    }\n",
       "</style>\n",
       "<table border=\"1\" class=\"dataframe\">\n",
       "  <thead>\n",
       "    <tr style=\"text-align: right;\">\n",
       "      <th></th>\n",
       "      <th>count</th>\n",
       "      <th>mean</th>\n",
       "      <th>std</th>\n",
       "      <th>min</th>\n",
       "      <th>25%</th>\n",
       "      <th>50%</th>\n",
       "      <th>75%</th>\n",
       "      <th>max</th>\n",
       "    </tr>\n",
       "  </thead>\n",
       "  <tbody>\n",
       "    <tr>\n",
       "      <th>Rating</th>\n",
       "      <td>9364.0</td>\n",
       "      <td>4.191734e+00</td>\n",
       "      <td>5.152694e-01</td>\n",
       "      <td>1.0</td>\n",
       "      <td>4.0</td>\n",
       "      <td>4.3</td>\n",
       "      <td>4.5</td>\n",
       "      <td>5.000000e+00</td>\n",
       "    </tr>\n",
       "    <tr>\n",
       "      <th>Reviews</th>\n",
       "      <td>10838.0</td>\n",
       "      <td>4.442252e+05</td>\n",
       "      <td>2.928026e+06</td>\n",
       "      <td>0.0</td>\n",
       "      <td>38.0</td>\n",
       "      <td>2093.5</td>\n",
       "      <td>54706.0</td>\n",
       "      <td>7.815831e+07</td>\n",
       "    </tr>\n",
       "    <tr>\n",
       "      <th>Size</th>\n",
       "      <td>9144.0</td>\n",
       "      <td>2.150834e+04</td>\n",
       "      <td>2.259660e+04</td>\n",
       "      <td>10.0</td>\n",
       "      <td>4900.0</td>\n",
       "      <td>13000.0</td>\n",
       "      <td>30000.0</td>\n",
       "      <td>1.000000e+05</td>\n",
       "    </tr>\n",
       "    <tr>\n",
       "      <th>Installs</th>\n",
       "      <td>10838.0</td>\n",
       "      <td>1.546664e+07</td>\n",
       "      <td>8.503703e+07</td>\n",
       "      <td>0.0</td>\n",
       "      <td>1000.0</td>\n",
       "      <td>100000.0</td>\n",
       "      <td>5000000.0</td>\n",
       "      <td>1.000000e+09</td>\n",
       "    </tr>\n",
       "    <tr>\n",
       "      <th>Price</th>\n",
       "      <td>10839.0</td>\n",
       "      <td>1.488760e+00</td>\n",
       "      <td>5.059599e+01</td>\n",
       "      <td>0.0</td>\n",
       "      <td>0.0</td>\n",
       "      <td>0.0</td>\n",
       "      <td>0.0</td>\n",
       "      <td>5.000000e+03</td>\n",
       "    </tr>\n",
       "    <tr>\n",
       "      <th>day</th>\n",
       "      <td>10838.0</td>\n",
       "      <td>1.560998e+01</td>\n",
       "      <td>9.561380e+00</td>\n",
       "      <td>1.0</td>\n",
       "      <td>6.0</td>\n",
       "      <td>16.0</td>\n",
       "      <td>24.0</td>\n",
       "      <td>3.100000e+01</td>\n",
       "    </tr>\n",
       "    <tr>\n",
       "      <th>month</th>\n",
       "      <td>10838.0</td>\n",
       "      <td>6.422403e+00</td>\n",
       "      <td>2.578477e+00</td>\n",
       "      <td>1.0</td>\n",
       "      <td>5.0</td>\n",
       "      <td>7.0</td>\n",
       "      <td>8.0</td>\n",
       "      <td>1.200000e+01</td>\n",
       "    </tr>\n",
       "    <tr>\n",
       "      <th>year</th>\n",
       "      <td>10838.0</td>\n",
       "      <td>2.017400e+03</td>\n",
       "      <td>1.100986e+00</td>\n",
       "      <td>2010.0</td>\n",
       "      <td>2017.0</td>\n",
       "      <td>2018.0</td>\n",
       "      <td>2018.0</td>\n",
       "      <td>2.018000e+03</td>\n",
       "    </tr>\n",
       "  </tbody>\n",
       "</table>\n",
       "</div>"
      ],
      "text/plain": [
       "            count          mean           std     min     25%       50%  \\\n",
       "Rating     9364.0  4.191734e+00  5.152694e-01     1.0     4.0       4.3   \n",
       "Reviews   10838.0  4.442252e+05  2.928026e+06     0.0    38.0    2093.5   \n",
       "Size       9144.0  2.150834e+04  2.259660e+04    10.0  4900.0   13000.0   \n",
       "Installs  10838.0  1.546664e+07  8.503703e+07     0.0  1000.0  100000.0   \n",
       "Price     10839.0  1.488760e+00  5.059599e+01     0.0     0.0       0.0   \n",
       "day       10838.0  1.560998e+01  9.561380e+00     1.0     6.0      16.0   \n",
       "month     10838.0  6.422403e+00  2.578477e+00     1.0     5.0       7.0   \n",
       "year      10838.0  2.017400e+03  1.100986e+00  2010.0  2017.0    2018.0   \n",
       "\n",
       "                75%           max  \n",
       "Rating          4.5  5.000000e+00  \n",
       "Reviews     54706.0  7.815831e+07  \n",
       "Size        30000.0  1.000000e+05  \n",
       "Installs  5000000.0  1.000000e+09  \n",
       "Price           0.0  5.000000e+03  \n",
       "day            24.0  3.100000e+01  \n",
       "month           8.0  1.200000e+01  \n",
       "year         2018.0  2.018000e+03  "
      ]
     },
     "execution_count": 46,
     "metadata": {},
     "output_type": "execute_result"
    }
   ],
   "source": [
    "df.toPandas().describe().T"
   ]
  },
  {
   "cell_type": "code",
   "execution_count": 50,
   "metadata": {},
   "outputs": [
    {
     "data": {
      "text/plain": [
       "['App',\n",
       " 'Category',\n",
       " 'Rating',\n",
       " 'Reviews',\n",
       " 'Size',\n",
       " 'Installs',\n",
       " 'Type',\n",
       " 'Price',\n",
       " 'Content Rating',\n",
       " 'Genres',\n",
       " 'Last Updated',\n",
       " 'Current Ver',\n",
       " 'Android Ver',\n",
       " 'day',\n",
       " 'month',\n",
       " 'year']"
      ]
     },
     "execution_count": 50,
     "metadata": {},
     "output_type": "execute_result"
    }
   ],
   "source": [
    "df.columns"
   ]
  },
  {
   "cell_type": "code",
   "execution_count": 51,
   "metadata": {},
   "outputs": [
    {
     "data": {
      "text/plain": [
       "list"
      ]
     },
     "execution_count": 51,
     "metadata": {},
     "output_type": "execute_result"
    }
   ],
   "source": [
    "type(df.columns)"
   ]
  },
  {
   "cell_type": "code",
   "execution_count": null,
   "metadata": {},
   "outputs": [],
   "source": []
  }
 ],
 "metadata": {
  "kernelspec": {
   "display_name": "Python 3.8.10 64-bit",
   "language": "python",
   "name": "python3"
  },
  "language_info": {
   "codemirror_mode": {
    "name": "ipython",
    "version": 3
   },
   "file_extension": ".py",
   "mimetype": "text/x-python",
   "name": "python",
   "nbconvert_exporter": "python",
   "pygments_lexer": "ipython3",
   "version": "3.8.10"
  },
  "orig_nbformat": 4,
  "vscode": {
   "interpreter": {
    "hash": "e7370f93d1d0cde622a1f8e1c04877d8463912d04d973331ad4851f04de6915a"
   }
  }
 },
 "nbformat": 4,
 "nbformat_minor": 2
}
